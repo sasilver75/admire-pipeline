{
 "cells": [
  {
   "cell_type": "code",
   "execution_count": 1,
   "metadata": {},
   "outputs": [
    {
     "name": "stderr",
     "output_type": "stream",
     "text": [
      "/home/sam/code/ucsc/243/admire/admire-pipeline/venv/lib/python3.12/site-packages/tqdm/auto.py:21: TqdmWarning: IProgress not found. Please update jupyter and ipywidgets. See https://ipywidgets.readthedocs.io/en/stable/user_install.html\n",
      "  from .autonotebook import tqdm as notebook_tqdm\n"
     ]
    }
   ],
   "source": [
    "from datasets import load_dataset"
   ]
  },
  {
   "cell_type": "code",
   "execution_count": 3,
   "metadata": {},
   "outputs": [
    {
     "name": "stderr",
     "output_type": "stream",
     "text": [
      "Generating train split: 100%|██████████| 162/162 [00:00<00:00, 1876.72 examples/s]\n",
      "Generating test split: 100%|██████████| 18/18 [00:00<00:00, 1661.62 examples/s]\n"
     ]
    }
   ],
   "source": [
    "dataset_name = \"UCSC-Admire/idiom-dataset-30-2024-12-02_10-10-01\"\n",
    "dataset = load_dataset(dataset_name)"
   ]
  },
  {
   "cell_type": "code",
   "execution_count": 4,
   "metadata": {},
   "outputs": [
    {
     "data": {
      "text/plain": [
       "DatasetDict({\n",
       "    train: Dataset({\n",
       "        features: ['id', 'language', 'compound', 'sentence_type', 'sentence', 'style', 'image_1_prompt', 'image_1', 'image_2_prompt', 'image_2', 'image_3_prompt', 'image_3', 'image_4_prompt', 'image_4', 'image_5_prompt', 'image_5'],\n",
       "        num_rows: 162\n",
       "    })\n",
       "    test: Dataset({\n",
       "        features: ['id', 'language', 'compound', 'sentence_type', 'sentence', 'style', 'image_1_prompt', 'image_1', 'image_2_prompt', 'image_2', 'image_3_prompt', 'image_3', 'image_4_prompt', 'image_4', 'image_5_prompt', 'image_5'],\n",
       "        num_rows: 18\n",
       "    })\n",
       "})"
      ]
     },
     "execution_count": 4,
     "metadata": {},
     "output_type": "execute_result"
    }
   ],
   "source": [
    "dataset"
   ]
  }
 ],
 "metadata": {
  "kernelspec": {
   "display_name": "venv",
   "language": "python",
   "name": "python3"
  },
  "language_info": {
   "codemirror_mode": {
    "name": "ipython",
    "version": 3
   },
   "file_extension": ".py",
   "mimetype": "text/x-python",
   "name": "python",
   "nbconvert_exporter": "python",
   "pygments_lexer": "ipython3",
   "version": "3.12.6"
  }
 },
 "nbformat": 4,
 "nbformat_minor": 2
}
