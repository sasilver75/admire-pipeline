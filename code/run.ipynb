{
 "cells": [
  {
   "cell_type": "code",
   "execution_count": 1,
   "metadata": {},
   "outputs": [],
   "source": [
    "import os\n",
    "\n",
    "import numpy as np\n",
    "import pandas as pd\n",
    "from dotenv import load_dotenv\n",
    "from utils import extract_image_categories"
   ]
  },
  {
   "cell_type": "code",
   "execution_count": 6,
   "metadata": {},
   "outputs": [
    {
     "name": "stdout",
     "output_type": "stream",
     "text": [
      "Loaded dataframe with 9 selected idioms.\n"
     ]
    },
    {
     "data": {
      "text/html": [
       "<div>\n",
       "<style scoped>\n",
       "    .dataframe tbody tr th:only-of-type {\n",
       "        vertical-align: middle;\n",
       "    }\n",
       "\n",
       "    .dataframe tbody tr th {\n",
       "        vertical-align: top;\n",
       "    }\n",
       "\n",
       "    .dataframe thead th {\n",
       "        text-align: right;\n",
       "    }\n",
       "</style>\n",
       "<table border=\"1\" class=\"dataframe\">\n",
       "  <thead>\n",
       "    <tr style=\"text-align: right;\">\n",
       "      <th></th>\n",
       "      <th>compound</th>\n",
       "      <th>subset</th>\n",
       "      <th>sentence_type</th>\n",
       "      <th>sentence</th>\n",
       "      <th>expected_order</th>\n",
       "      <th>image1_name</th>\n",
       "      <th>image1_caption</th>\n",
       "      <th>image2_name</th>\n",
       "      <th>image2_caption</th>\n",
       "      <th>image3_name</th>\n",
       "      <th>image3_caption</th>\n",
       "      <th>image4_name</th>\n",
       "      <th>image4_caption</th>\n",
       "      <th>image5_name</th>\n",
       "      <th>image5_caption</th>\n",
       "    </tr>\n",
       "  </thead>\n",
       "  <tbody>\n",
       "    <tr>\n",
       "      <th>0</th>\n",
       "      <td>elbow grease</td>\n",
       "      <td>Train</td>\n",
       "      <td>idiomatic</td>\n",
       "      <td>It took a lot of elbow grease to get the old e...</td>\n",
       "      <td>['35234427395.png', '53378381715.png', '399382...</td>\n",
       "      <td>35234427395.png</td>\n",
       "      <td>The image depicts a hand holding a sponge and ...</td>\n",
       "      <td>39938261459.png</td>\n",
       "      <td>The image depicts a hand wearing a yellow work...</td>\n",
       "      <td>53378381715.png</td>\n",
       "      <td>The image depicts a hand holding a duster with...</td>\n",
       "      <td>54879908369.png</td>\n",
       "      <td>The image depicts a person wearing knee pads a...</td>\n",
       "      <td>74852536462.png</td>\n",
       "      <td>The image depicts a person wearing a black out...</td>\n",
       "    </tr>\n",
       "    <tr>\n",
       "      <th>1</th>\n",
       "      <td>heart of gold</td>\n",
       "      <td>Train</td>\n",
       "      <td>idiomatic</td>\n",
       "      <td>Even the somewhat seedy failed private eye has...</td>\n",
       "      <td>['86137977215.png', '78062290185.png', '542405...</td>\n",
       "      <td>54240592941.png</td>\n",
       "      <td>The image depicts a large, metallic safe with ...</td>\n",
       "      <td>78062290185.png</td>\n",
       "      <td>The image depicts a joyful scene featuring a y...</td>\n",
       "      <td>86137977215.png</td>\n",
       "      <td>The image depicts a cartoon scene where a youn...</td>\n",
       "      <td>90660547751.png</td>\n",
       "      <td>The image depicts a futuristic, stylized space...</td>\n",
       "      <td>92088849364.png</td>\n",
       "      <td>The image depicts a stylized, artistic represe...</td>\n",
       "    </tr>\n",
       "  </tbody>\n",
       "</table>\n",
       "</div>"
      ],
      "text/plain": [
       "        compound subset sentence_type  \\\n",
       "0   elbow grease  Train     idiomatic   \n",
       "1  heart of gold  Train     idiomatic   \n",
       "\n",
       "                                            sentence  \\\n",
       "0  It took a lot of elbow grease to get the old e...   \n",
       "1  Even the somewhat seedy failed private eye has...   \n",
       "\n",
       "                                      expected_order      image1_name  \\\n",
       "0  ['35234427395.png', '53378381715.png', '399382...  35234427395.png   \n",
       "1  ['86137977215.png', '78062290185.png', '542405...  54240592941.png   \n",
       "\n",
       "                                      image1_caption      image2_name  \\\n",
       "0  The image depicts a hand holding a sponge and ...  39938261459.png   \n",
       "1  The image depicts a large, metallic safe with ...  78062290185.png   \n",
       "\n",
       "                                      image2_caption      image3_name  \\\n",
       "0  The image depicts a hand wearing a yellow work...  53378381715.png   \n",
       "1  The image depicts a joyful scene featuring a y...  86137977215.png   \n",
       "\n",
       "                                      image3_caption      image4_name  \\\n",
       "0  The image depicts a hand holding a duster with...  54879908369.png   \n",
       "1  The image depicts a cartoon scene where a youn...  90660547751.png   \n",
       "\n",
       "                                      image4_caption      image5_name  \\\n",
       "0  The image depicts a person wearing knee pads a...  74852536462.png   \n",
       "1  The image depicts a futuristic, stylized space...  92088849364.png   \n",
       "\n",
       "                                      image5_caption  \n",
       "0  The image depicts a person wearing a black out...  \n",
       "1  The image depicts a stylized, artistic represe...  "
      ]
     },
     "execution_count": 6,
     "metadata": {},
     "output_type": "execute_result"
    }
   ],
   "source": [
    "# Load the dataframe of selected idioms from the tsv file\n",
    "df = pd.read_csv(\"../data/selected_idioms.tsv\", sep=\"\\t\")\n",
    "print(f\"Loaded dataframe with {len(df)} selected idioms.\")\n",
    "df.head(2)"
   ]
  },
  {
   "cell_type": "code",
   "execution_count": null,
   "metadata": {},
   "outputs": [],
   "source": [
    "# Just checking the language model prompt generation process\n",
    "\n",
    "selected_idx = 0\n",
    "\n",
    "row = df.iloc[selected_idx]\n",
    "compound = row[\"compound\"]\n",
    "usage = row[\"usage\"]\n",
    "\n",
    "print(f\"Selected idiom: {compound} ({usage})\")\n",
    "\n",
    "\n",
    "\n"
   ]
  },
  {
   "cell_type": "code",
   "execution_count": null,
   "metadata": {},
   "outputs": [],
   "source": []
  }
 ],
 "metadata": {
  "kernelspec": {
   "display_name": "venv",
   "language": "python",
   "name": "python3"
  },
  "language_info": {
   "codemirror_mode": {
    "name": "ipython",
    "version": 3
   },
   "file_extension": ".py",
   "mimetype": "text/x-python",
   "name": "python",
   "nbconvert_exporter": "python",
   "pygments_lexer": "ipython3",
   "version": "3.12.6"
  }
 },
 "nbformat": 4,
 "nbformat_minor": 2
}
